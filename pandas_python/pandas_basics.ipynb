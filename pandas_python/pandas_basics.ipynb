{
 "cells": [
  {
   "cell_type": "code",
   "execution_count": 3,
   "source": [
    "import pandas as pd\r\n",
    "\r\n",
    "data = [10, 23, 50, 24]\r\n",
    "\r\n",
    "sr = pd.Series(data, index=['one', 'two', 'three', 'four'])\r\n",
    "\r\n",
    "print(sr, type(sr))\r\n"
   ],
   "outputs": [
    {
     "output_type": "stream",
     "name": "stdout",
     "text": [
      "one      10\n",
      "two      23\n",
      "three    50\n",
      "four     24\n",
      "dtype: int64 <class 'pandas.core.series.Series'>\n"
     ]
    }
   ],
   "metadata": {}
  },
  {
   "cell_type": "code",
   "execution_count": 8,
   "source": [
    "# DataFrame\r\n",
    "\r\n",
    "data = [['ravi', 30], ['saket', 28], ['shubham', 40]]\r\n",
    "\r\n",
    "df = pd.DataFrame(data, columns=[\"name\", 'marks'])\r\n",
    "\r\n",
    "# print(df)\r\n",
    "\r\n",
    "df.to_csv(\"C:\\\\Users\\\\Amirkhan\\\\Desktop\\\\new project\\\\student_info.csv\", index=False)\r\n",
    "\r\n",
    "sr = df[['name', 'marks']]\r\n",
    "print(sr, type(sr))\r\n"
   ],
   "outputs": [
    {
     "output_type": "stream",
     "name": "stdout",
     "text": [
      "      name  marks\n",
      "0     ravi     30\n",
      "1    saket     28\n",
      "2  shubham     40 <class 'pandas.core.frame.DataFrame'>\n"
     ]
    }
   ],
   "metadata": {}
  },
  {
   "cell_type": "code",
   "execution_count": 29,
   "source": [
    "import pandas as pd\r\n",
    "\r\n",
    "df = pd.read_csv(\"pokemon_data.csv\")\r\n",
    "\r\n",
    "# print(df.head(3))\r\n",
    "# print(df.tail(5))\r\n",
    "\r\n",
    "\r\n",
    "\r\n"
   ],
   "outputs": [
    {
     "output_type": "execute_result",
     "data": {
      "text/plain": [
       "0                      Bulbasaur\n",
       "1                        Ivysaur\n",
       "2                       Venusaur\n",
       "3          VenusaurMega Venusaur\n",
       "4                     Charmander\n",
       "5                     Charmeleon\n",
       "6                      Charizard\n",
       "7      CharizardMega Charizard X\n",
       "8      CharizardMega Charizard Y\n",
       "9                       Squirtle\n",
       "10                     Wartortle\n",
       "11                     Blastoise\n",
       "12       BlastoiseMega Blastoise\n",
       "13                      Caterpie\n",
       "14                       Metapod\n",
       "15                    Butterfree\n",
       "16                        Weedle\n",
       "17                        Kakuna\n",
       "18                      Beedrill\n",
       "19         BeedrillMega Beedrill\n",
       "20                        Pidgey\n",
       "21                     Pidgeotto\n",
       "22                       Pidgeot\n",
       "23           PidgeotMega Pidgeot\n",
       "24                       Rattata\n",
       "25                      Raticate\n",
       "26                       Spearow\n",
       "27                        Fearow\n",
       "28                         Ekans\n",
       "29                         Arbok\n",
       "                 ...            \n",
       "770                      Sylveon\n",
       "771                     Hawlucha\n",
       "772                      Dedenne\n",
       "773                      Carbink\n",
       "774                        Goomy\n",
       "775                      Sliggoo\n",
       "776                       Goodra\n",
       "777                       Klefki\n",
       "778                     Phantump\n",
       "779                    Trevenant\n",
       "780        PumpkabooAverage Size\n",
       "781          PumpkabooSmall Size\n",
       "782          PumpkabooLarge Size\n",
       "783          PumpkabooSuper Size\n",
       "784        GourgeistAverage Size\n",
       "785          GourgeistSmall Size\n",
       "786          GourgeistLarge Size\n",
       "787          GourgeistSuper Size\n",
       "788                     Bergmite\n",
       "789                      Avalugg\n",
       "790                       Noibat\n",
       "791                      Noivern\n",
       "792                      Xerneas\n",
       "793                      Yveltal\n",
       "794             Zygarde50% Forme\n",
       "795                      Diancie\n",
       "796          DiancieMega Diancie\n",
       "797          HoopaHoopa Confined\n",
       "798           HoopaHoopa Unbound\n",
       "799                    Volcanion\n",
       "Name: Name, Length: 800, dtype: object"
      ]
     },
     "metadata": {},
     "execution_count": 29
    }
   ],
   "metadata": {}
  },
  {
   "cell_type": "code",
   "execution_count": 12,
   "source": [
    "# create a csv file with user-id and password\r\n",
    "\r\n",
    "import pandas as pd\r\n",
    "\r\n",
    "lst = []\r\n",
    "\r\n",
    "while 1:\r\n",
    "    user_id = input(\"enter the user-id: \")\r\n",
    "    password = input(\"Enter the password \")\r\n",
    "    lst.append([user_id, password])\r\n",
    "    if input(\"Do you want to enter another data Y/N :\") == 'N':\r\n",
    "        break\r\n",
    "\r\n",
    "df = pd.DataFrame(lst, columns=['user-id', 'password'])\r\n",
    "df.to_csv(\"student_info.csv\", index=False)\r\n",
    "\r\n",
    "print(df)\r\n"
   ],
   "outputs": [
    {
     "output_type": "stream",
     "name": "stdout",
     "text": [
      "   user-id password\n",
      "0     ravi      123\n",
      "1  mandeep     6878\n"
     ]
    }
   ],
   "metadata": {}
  },
  {
   "cell_type": "code",
   "execution_count": 23,
   "source": [
    "# search password with given user-id\r\n",
    "\r\n",
    "df2 = pd.read_csv(\"student_info.csv\")\r\n",
    "us_id = input(\"Enter the user id \")\r\n",
    "for i in range(len(df2.iloc[0])):\r\n",
    "    if df2.iloc[i][\"user-id\"]  == us_id:\r\n",
    "        print(df2.iloc[i]['password'])\r\n",
    "        \r\n",
    "\r\n"
   ],
   "outputs": [
    {
     "output_type": "stream",
     "name": "stdout",
     "text": [
      "6878\n"
     ]
    }
   ],
   "metadata": {}
  },
  {
   "cell_type": "code",
   "execution_count": 50,
   "source": [
    "import pandas as pd\r\n",
    "\r\n",
    "# df = pd.read_csv(\"pokemon_data.txt\", delimiter='\\t')\r\n",
    "\r\n",
    "df = pd.read_excel(\"pokemon_data.xlsx\")\r\n",
    "\r\n",
    "# df\r\n",
    "# df.iloc[0:3]\r\n",
    "# df.loc[df['Speed'] < 50 ]\r\n",
    "\r\n",
    "# df.describe()\r\n",
    "\r\n",
    "# df.sort_values(\"Name\", ascending=False)\r\n",
    "# df.sort_values([\"Name\", 'HP'], ascending=[0, 1])\r\n",
    "\r\n",
    "df[\"total\"] = df[\"HP\"] + df[\"Attack\"] + df[\"Defense\"] + df[\"Sp. Def\"] + df[\"Speed\"]\r\n",
    "df\r\n"
   ],
   "outputs": [],
   "metadata": {}
  },
  {
   "cell_type": "code",
   "execution_count": 36,
   "source": [
    "statename=input('What is the state: Karnataka/Tamil Nadu/Maharashtra/India : ')\r\n",
    "states=[\"Karnataka\",\"Tamil Nadu\",\"Maharashtra\",\"India\"]\r\n",
    "\r\n",
    "if statename in states:\r\n",
    "     print(statename)\r\n",
    "else:\r\n",
    "    print(\"Data not found. Please select among the above options\")\r\n",
    "    \r\n",
    "    \r\n",
    "\r\n",
    "unit=input('Cost or Rating: ')\r\n",
    "unit1=['Cost','Rating']\r\n",
    "if unit in unit1:\r\n",
    "     print(unit)\r\n",
    "else:\r\n",
    "    print(\"Data not found. Please select among the above options\")\r\n",
    "    \r\n",
    "    \r\n",
    "\r\n",
    "operation3=input('Operations:-Cheapest/Average/Highest: ')\r\n",
    "operation=[\"Cheapest\",\"Average\",\"Highest\"]\r\n",
    "\r\n",
    "\r\n",
    "\r\n",
    "if operation3 in operation:\r\n",
    "     print(operation3)\r\n",
    "else:\r\n",
    "    print(\"Data not found. Please select among the above options\")\r\n",
    "    \r\n",
    "\r\n",
    "operationlist=['Rating','Cost']\r\n",
    "        \r\n",
    "if unit in operationlist[0]:\r\n",
    "    if operation3 in operation[0]:\r\n",
    "        print(\"{} rating of hotel in {} is max.cost\".format(operation3,statename))\r\n",
    "    elif operation3 in operation[1]:\r\n",
    "        print(\"{} rating of hotel in {} is 6\".format(operation3,statename))\r\n",
    "    elif operation3 in operation[2]:\r\n",
    "        print(\"{} rating of hotel in {} is 10\".format(operation3,statename))\r\n",
    "    else:\r\n",
    "        print(\"Data not found\")\r\n",
    "else:    \r\n",
    "    if operation3 in operation[1]:\r\n",
    "        print(\"Hotel with {} price in {} is abc with price 400\".format(operation3,statename))\r\n",
    "    elif operation3 in operation[1]:\r\n",
    "        print(\"Hotel with {} price in {} is abc with price 1308\".format(operation3,statename))\r\n",
    "    elif operation3 in operation[2]:\r\n",
    "        print(\"Hotel with {} price in {} is abc with price 2200\".format(operation3,statename))\r\n",
    "    else:\r\n",
    "        print(\"Data not found\")\r\n"
   ],
   "outputs": [
    {
     "output_type": "stream",
     "name": "stdout",
     "text": [
      "Tamil Nadu\n",
      "Cost\n",
      "Average\n",
      "Hotel with Average price in Tamil Nadu is abc with price 400\n"
     ]
    }
   ],
   "metadata": {}
  }
 ],
 "metadata": {
  "orig_nbformat": 4,
  "language_info": {
   "name": "python",
   "version": "3.7.2",
   "mimetype": "text/x-python",
   "codemirror_mode": {
    "name": "ipython",
    "version": 3
   },
   "pygments_lexer": "ipython3",
   "nbconvert_exporter": "python",
   "file_extension": ".py"
  },
  "kernelspec": {
   "name": "python3",
   "display_name": "Python 3.7.2 32-bit"
  },
  "interpreter": {
   "hash": "8786318122129ba10eb40c9c8a2ede770fe6a9df50dfcd3c6edc33520e4c5279"
  }
 },
 "nbformat": 4,
 "nbformat_minor": 2
}