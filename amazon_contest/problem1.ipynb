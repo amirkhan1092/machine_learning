{
 "cells": [
  {
   "cell_type": "code",
   "execution_count": 3,
   "source": [
    "def deliveryPlan(allLocations, numDeliveries):\r\n",
    "    out_list = []  # define empty list for invidual \r\n",
    "    for i in allLocations:\r\n",
    "        dist = (i[0] ** 2 + i[1] ** 2) ** .5  # \r\n",
    "        out_list.append([dist, i])\r\n",
    "    out_list.sort()\r\n",
    "    ret = []\r\n",
    "    if numDeliveries <= 0:\r\n",
    "        return [[]]\r\n",
    "\r\n",
    "    for i in range(numDeliveries):\r\n",
    "        ret.append(out_list[i][1])\r\n",
    "    return ret     \r\n",
    "\r\n",
    " # define empty list for invidual distance out_list\r\n",
    " # formula from distance from origin sqrt(x^2 + y^2)\r\n",
    " # sort in ascending order \r\n",
    " # display number of delevery from starting \r\n",
    "\r\n",
    "\r\n",
    "\r\n",
    "loc = eval(input())\r\n",
    "num = int(input())\r\n",
    "out = deliveryPlan(loc, num)\r\n",
    "print(out)\r\n"
   ],
   "outputs": [
    {
     "output_type": "stream",
     "name": "stdout",
     "text": [
      "[[1, -1], [1, 2]]\n"
     ]
    }
   ],
   "metadata": {}
  },
  {
   "cell_type": "code",
   "execution_count": null,
   "source": [
    "def applicationPairs(deviceCapacity, foregroundApplist, backgroundApplist):\r\n",
    "    pass\r\n",
    "    comb = []\r\n",
    "    for i in range(len(foregroundApplist)):\r\n",
    "        for j in range(len(backgroundApplist)):\r\n",
    "            if foregroundApplist[i][1] + backgroundApplist[j][1] <= deviceCapacity:\r\n",
    "                comb.append([foregroundApplist[i][0],  backgroundApplist[j][0]])\r\n",
    "    return comb             \r\n",
    "\r\n",
    "\r\n",
    "\r\n",
    "\r\n",
    "\r\n",
    "\r\n",
    "capacity = int(input())\r\n",
    "background = eval(input())\r\n",
    "foreground = eval(input())\r\n",
    "out = applicationPairs(capacity, foreground, background)\r\n",
    "print(out)"
   ],
   "outputs": [],
   "metadata": {}
  }
 ],
 "metadata": {
  "orig_nbformat": 4,
  "language_info": {
   "name": "python",
   "version": "3.7.2",
   "mimetype": "text/x-python",
   "codemirror_mode": {
    "name": "ipython",
    "version": 3
   },
   "pygments_lexer": "ipython3",
   "nbconvert_exporter": "python",
   "file_extension": ".py"
  },
  "kernelspec": {
   "name": "python3",
   "display_name": "Python 3.7.2 32-bit"
  },
  "interpreter": {
   "hash": "8786318122129ba10eb40c9c8a2ede770fe6a9df50dfcd3c6edc33520e4c5279"
  }
 },
 "nbformat": 4,
 "nbformat_minor": 2
}