{
 "cells": [
  {
   "cell_type": "code",
   "execution_count": null,
   "metadata": {},
   "outputs": [],
   "source": [
    "# Machine learning vs normal programming (traditional computing )"
   ]
  },
  {
   "cell_type": "code",
   "execution_count": 1,
   "metadata": {},
   "outputs": [
    {
     "name": "stdout",
     "output_type": "stream",
     "text": [
      "It is raining:  False\n"
     ]
    }
   ],
   "source": [
    "# raining or not raining\n",
    "# 1. raining\n",
    "# 2. not raining\n",
    "\n",
    "humidity = int(input('Enter the humidity: '))\n",
    "# rain = False\n",
    "\n",
    "if humidity > 80:\n",
    "    rain = True\n",
    "else:\n",
    "    rain = False\n",
    "print('It is raining: ', rain)"
   ]
  },
  {
   "cell_type": "code",
   "execution_count": 3,
   "metadata": {},
   "outputs": [],
   "source": [
    "import numpy as np\n",
    "import pandas as pd"
   ]
  },
  {
   "cell_type": "code",
   "execution_count": 7,
   "metadata": {},
   "outputs": [],
   "source": [
    "dct = {'temp': [2, 3, 5, 7, 9], 'sell': [4, 5, 7, 10, 15]}\n",
    "df = pd.DataFrame(dct)\n",
    "N = len(df)\n"
   ]
  },
  {
   "cell_type": "code",
   "execution_count": 17,
   "metadata": {},
   "outputs": [
    {
     "name": "stdout",
     "output_type": "stream",
     "text": [
      "0   -0.658537\n",
      "1   -0.140244\n",
      "2    0.896341\n",
      "3    0.932927\n",
      "4   -1.030488\n",
      "dtype: float64\n"
     ]
    }
   ],
   "source": [
    "m = N * sum(df.temp * df.sell ) - (sum(df.temp) * sum(df.sell))\n",
    "m /= N * sum(df.temp ** 2) - (sum(df.temp) ** 2)\n",
    "b = (sum(df.sell) - (m * sum(df.temp)))/ N\n",
    "price = m * df.temp + b\n",
    "# price\n",
    "error = sum((price - df.sell) ** 2)\n",
    "error_point = price - df.sell\n",
    "print(error_point) \n"
   ]
  },
  {
   "cell_type": "code",
   "execution_count": 20,
   "metadata": {},
   "outputs": [],
   "source": [
    "from sklearn.linear_model import LinearRegression"
   ]
  },
  {
   "cell_type": "code",
   "execution_count": 22,
   "metadata": {},
   "outputs": [
    {
     "name": "stdout",
     "output_type": "stream",
     "text": [
      "[1.51829268]\n",
      "0.3048780487804894\n"
     ]
    }
   ],
   "source": [
    "model = LinearRegression()\n",
    "model.fit(df[['temp']], df.sell)\n",
    "print(model.coef_)\n",
    "print(model.intercept_)"
   ]
  },
  {
   "cell_type": "code",
   "execution_count": 29,
   "metadata": {},
   "outputs": [
    {
     "name": "stderr",
     "output_type": "stream",
     "text": [
      "c:\\Users\\drami\\AppData\\Local\\Programs\\Python\\Python310\\lib\\site-packages\\sklearn\\base.py:450: UserWarning: X does not have valid feature names, but LinearRegression was fitted with feature names\n",
      "  warnings.warn(\n"
     ]
    },
    {
     "data": {
      "text/plain": [
       "array([7.89634146])"
      ]
     },
     "execution_count": 29,
     "metadata": {},
     "output_type": "execute_result"
    }
   ],
   "source": [
    "model.predict([[5]])"
   ]
  },
  {
   "cell_type": "code",
   "execution_count": 33,
   "metadata": {},
   "outputs": [],
   "source": [
    "import pickle\n",
    "file = open('mymodel.pkl', 'wb')\n",
    "pickle.dump(model, file)\n",
    "file.close()"
   ]
  },
  {
   "cell_type": "code",
   "execution_count": 34,
   "metadata": {},
   "outputs": [
    {
     "name": "stderr",
     "output_type": "stream",
     "text": [
      "c:\\Users\\drami\\AppData\\Local\\Programs\\Python\\Python310\\lib\\site-packages\\sklearn\\base.py:450: UserWarning: X does not have valid feature names, but LinearRegression was fitted with feature names\n",
      "  warnings.warn(\n"
     ]
    },
    {
     "data": {
      "text/plain": [
       "array([7.89634146])"
      ]
     },
     "execution_count": 34,
     "metadata": {},
     "output_type": "execute_result"
    }
   ],
   "source": [
    "f = open('mymodel.pkl', 'rb')\n",
    "x = pickle.load(f)\n",
    "x.predict([[5]])"
   ]
  },
  {
   "cell_type": "code",
   "execution_count": 44,
   "metadata": {},
   "outputs": [],
   "source": [
    "f = open(r'C:\\Users\\drami\\OneDrive\\Desktop\\ruchi\\myfile.ruchi', 'w')\n",
    "f.write('Hello World')\n",
    "f.write('\\nRuchi')\n",
    "f.close()"
   ]
  },
  {
   "cell_type": "code",
   "execution_count": 45,
   "metadata": {},
   "outputs": [
    {
     "name": "stdout",
     "output_type": "stream",
     "text": [
      "Hello World\n",
      "Ruchi\n"
     ]
    }
   ],
   "source": [
    "f = open(r'C:\\Users\\drami\\OneDrive\\Desktop\\ruchi\\myfile.ruchi', 'r')\n",
    "print(f.read())"
   ]
  },
  {
   "cell_type": "code",
   "execution_count": 47,
   "metadata": {},
   "outputs": [
    {
     "name": "stdout",
     "output_type": "stream",
     "text": [
      "{'name': 'Ruchi', 'age': '41', 'city': 'Pune', 'mobile': '9876543210'}\n"
     ]
    }
   ],
   "source": [
    "info = {'name': 'Ruchi', 'age': '41', 'city': 'Pune'}\n",
    "info.update({'mobile': '9876543210'})\n",
    "print(info)"
   ]
  },
  {
   "cell_type": "code",
   "execution_count": 48,
   "metadata": {},
   "outputs": [],
   "source": [
    "del info['mobile']"
   ]
  },
  {
   "cell_type": "code",
   "execution_count": 49,
   "metadata": {},
   "outputs": [
    {
     "data": {
      "text/plain": [
       "{'name': 'Ruchi', 'age': '41', 'city': 'Pune'}"
      ]
     },
     "execution_count": 49,
     "metadata": {},
     "output_type": "execute_result"
    }
   ],
   "source": [
    "info"
   ]
  },
  {
   "cell_type": "code",
   "execution_count": 50,
   "metadata": {},
   "outputs": [],
   "source": [
    "file = open(r'C:\\Users\\drami\\OneDrive\\Desktop\\ruchi\\info.pkl', 'wb')\n",
    "pickle.dump(info, file)\n",
    "file.close()\n"
   ]
  },
  {
   "cell_type": "code",
   "execution_count": 52,
   "metadata": {},
   "outputs": [
    {
     "name": "stdout",
     "output_type": "stream",
     "text": [
      "{'name': 'Ruchi', 'age': '41', 'city': 'Pune'} <class 'dict'>\n"
     ]
    }
   ],
   "source": [
    "file = open(r'C:\\Users\\drami\\OneDrive\\Desktop\\ruchi\\info.pkl', 'rb')\n",
    "info = pickle.load(file)\n",
    "print(info, type(info))"
   ]
  }
 ],
 "metadata": {
  "kernelspec": {
   "display_name": "Python 3.10.4 64-bit",
   "language": "python",
   "name": "python3"
  },
  "language_info": {
   "codemirror_mode": {
    "name": "ipython",
    "version": 3
   },
   "file_extension": ".py",
   "mimetype": "text/x-python",
   "name": "python",
   "nbconvert_exporter": "python",
   "pygments_lexer": "ipython3",
   "version": "3.10.4"
  },
  "orig_nbformat": 4,
  "vscode": {
   "interpreter": {
    "hash": "490f1c68ed42f2c5a574e22fb9e03ff49b98516de8582ff1c5d4fb43fb70f61b"
   }
  }
 },
 "nbformat": 4,
 "nbformat_minor": 2
}
