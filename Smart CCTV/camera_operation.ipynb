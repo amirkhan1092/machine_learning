{
 "cells": [
  {
   "cell_type": "code",
   "execution_count": null,
   "source": [
    "import cv2 \r\n",
    "\r\n"
   ],
   "outputs": [
    {
     "output_type": "error",
     "ename": "Error",
     "evalue": "Session cannot generate requests",
     "traceback": [
      "Error: Session cannot generate requests",
      "at w.executeCodeCell (c:\\Users\\Amirkhan\\.vscode\\extensions\\ms-toolsai.jupyter-2021.8.2041215044\\out\\client\\extension.js:52:301310)",
      "at w.execute (c:\\Users\\Amirkhan\\.vscode\\extensions\\ms-toolsai.jupyter-2021.8.2041215044\\out\\client\\extension.js:52:300703)",
      "at w.start (c:\\Users\\Amirkhan\\.vscode\\extensions\\ms-toolsai.jupyter-2021.8.2041215044\\out\\client\\extension.js:52:296367)",
      "at processTicksAndRejections (internal/process/task_queues.js:93:5)",
      "at async t.CellExecutionQueue.executeQueuedCells (c:\\Users\\Amirkhan\\.vscode\\extensions\\ms-toolsai.jupyter-2021.8.2041215044\\out\\client\\extension.js:52:311160)",
      "at async t.CellExecutionQueue.start (c:\\Users\\Amirkhan\\.vscode\\extensions\\ms-toolsai.jupyter-2021.8.2041215044\\out\\client\\extension.js:52:310700)"
     ]
    }
   ],
   "metadata": {}
  },
  {
   "cell_type": "code",
   "execution_count": null,
   "source": [
    "cam = cv2.VideoCapture(0)\r\n",
    "\r\n",
    "flag, img = cam.read()\r\n",
    "\r\n",
    "cv2.imshow(\"Image\", img)\r\n",
    "\r\n",
    "cv2.waitKey(0) \r\n",
    "\r\n",
    "cv2.destroyAllWindows()"
   ],
   "outputs": [
    {
     "output_type": "error",
     "ename": "Error",
     "evalue": "Session cannot generate requests",
     "traceback": [
      "Error: Session cannot generate requests",
      "at w.executeCodeCell (c:\\Users\\Amirkhan\\.vscode\\extensions\\ms-toolsai.jupyter-2021.8.2041215044\\out\\client\\extension.js:52:301310)",
      "at w.execute (c:\\Users\\Amirkhan\\.vscode\\extensions\\ms-toolsai.jupyter-2021.8.2041215044\\out\\client\\extension.js:52:300703)",
      "at w.start (c:\\Users\\Amirkhan\\.vscode\\extensions\\ms-toolsai.jupyter-2021.8.2041215044\\out\\client\\extension.js:52:296367)",
      "at processTicksAndRejections (internal/process/task_queues.js:93:5)",
      "at async t.CellExecutionQueue.executeQueuedCells (c:\\Users\\Amirkhan\\.vscode\\extensions\\ms-toolsai.jupyter-2021.8.2041215044\\out\\client\\extension.js:52:311160)",
      "at async t.CellExecutionQueue.start (c:\\Users\\Amirkhan\\.vscode\\extensions\\ms-toolsai.jupyter-2021.8.2041215044\\out\\client\\extension.js:52:310700)"
     ]
    }
   ],
   "metadata": {}
  }
 ],
 "metadata": {
  "orig_nbformat": 4,
  "language_info": {
   "name": "python",
   "version": "3.7.2",
   "mimetype": "text/x-python",
   "codemirror_mode": {
    "name": "ipython",
    "version": 3
   },
   "pygments_lexer": "ipython3",
   "nbconvert_exporter": "python",
   "file_extension": ".py"
  },
  "kernelspec": {
   "name": "python3",
   "display_name": "Python 3.7.2 32-bit"
  },
  "interpreter": {
   "hash": "8786318122129ba10eb40c9c8a2ede770fe6a9df50dfcd3c6edc33520e4c5279"
  }
 },
 "nbformat": 4,
 "nbformat_minor": 2
}